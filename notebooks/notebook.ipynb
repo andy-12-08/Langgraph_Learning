{
 "cells": [
  {
   "cell_type": "markdown",
   "metadata": {},
   "source": [
    "## Simple graph"
   ]
  },
  {
   "cell_type": "code",
   "execution_count": 119,
   "metadata": {},
   "outputs": [],
   "source": [
    "from typing import TypedDict, Optional, List, Annotated\n",
    "\n",
    "class PortfolioState(TypedDict):\n",
    "    amount_usd: float\n",
    "    total_usd: float\n",
    "    total_inr: float\n",
    "\n",
    "def calc_total(state: PortfolioState) -> float:\n",
    "    state['total_usd'] = state['amount_usd']*1.08\n",
    "    return state\n",
    "\n",
    "def convert_to_inr(state: PortfolioState) -> PortfolioState:\n",
    "    state['total_inr'] = state['total_usd'] * 85.0\n",
    "    return state"
   ]
  },
  {
   "cell_type": "code",
   "execution_count": 120,
   "metadata": {},
   "outputs": [],
   "source": [
    "from langgraph.graph import StateGraph, START, END\n",
    "\n",
    "builder = StateGraph(PortfolioState)\n",
    "\n",
    "builder.add_node(\"calc_total_node\", calc_total)\n",
    "builder.add_node(\"convert_to_inr_node\", convert_to_inr)\n",
    "\n",
    "builder.add_edge(START, \"calc_total_node\")\n",
    "builder.add_edge(\"calc_total_node\", \"convert_to_inr_node\")\n",
    "builder.add_edge(\"convert_to_inr_node\", END)\n",
    "\n",
    "graph = builder.compile()"
   ]
  },
  {
   "cell_type": "code",
   "execution_count": 121,
   "metadata": {},
   "outputs": [
    {
     "data": {
      "image/png": "[encoded data removed]",
      "text/plain": [
       "<IPython.core.display.Image object>"
      ]
     },
     "metadata": {},
     "output_type": "display_data"
    }
   ],
   "source": [
    "from IPython.display import Image, display\n",
    "display(Image(graph.get_graph().draw_mermaid_png()))"
   ]
  },
  {
   "cell_type": "code",
   "execution_count": 122,
   "metadata": {},
   "outputs": [
    {
     "data": {
      "text/plain": [
       "{'amount_usd': 1000, 'total_usd': 1080.0, 'total_inr': 91800.0}"
      ]
     },
     "execution_count": 122,
     "metadata": {},
     "output_type": "execute_result"
    }
   ],
   "source": [
    "graph.invoke({'amount_usd':1000})"
   ]
  },
  {
   "cell_type": "markdown",
   "metadata": {},
   "source": [
    "## Graph with condition "
   ]
  },
  {
   "cell_type": "code",
   "execution_count": 123,
   "metadata": {},
   "outputs": [],
   "source": [
    "from typing import TypedDict, Optional, List, Literal\n",
    "\n",
    "class PortfolioState(TypedDict):\n",
    "    amount_usd: float\n",
    "    total_usd: float\n",
    "    total_currency: Literal['USD', 'INR']\n",
    "    total: float\n",
    "\n",
    "def calc_total(state: PortfolioState) -> float:\n",
    "    state['total_usd'] = state['amount_usd']*1.08\n",
    "    return state\n",
    "\n",
    "def convert_to_inr(state: PortfolioState) -> PortfolioState:\n",
    "    state['total'] = state['total_usd'] * 85.0\n",
    "    return state\n",
    "\n",
    "def convert_to_eur(state: PortfolioState) -> PortfolioState:\n",
    "    state['total'] = state['total_usd'] * 0.95\n",
    "    return state\n",
    "\n",
    "def choose_conversion(state: PortfolioState) -> str:\n",
    "    return state['total_currency']"
   ]
  },
  {
   "cell_type": "code",
   "execution_count": 124,
   "metadata": {},
   "outputs": [
    {
     "data": {
      "text/plain": [
       "<langgraph.graph.state.StateGraph at 0x206bd896e60>"
      ]
     },
     "execution_count": 124,
     "metadata": {},
     "output_type": "execute_result"
    }
   ],
   "source": [
    "from langgraph.graph import StateGraph, START, END\n",
    "\n",
    "builder = StateGraph(PortfolioState)\n",
    "\n",
    "builder.add_node(\"calc_total_node\", calc_total)\n",
    "builder.add_node(\"convert_to_inr_node\", convert_to_inr)\n",
    "builder.add_node(\"convert_to_eur_node\", convert_to_eur)\n",
    "\n",
    "builder.add_edge(START, \"calc_total_node\")\n",
    "builder.add_conditional_edges(\n",
    "    \"calc_total_node\",\n",
    "    choose_conversion,\n",
    "    {\n",
    "        'INR': \"convert_to_inr_node\",\n",
    "        'EUR': \"convert_to_eur_node\"\n",
    "    }\n",
    ")\n",
    "builder.add_edge([\"convert_to_inr_node\", \"convert_to_eur_node\"], END)"
   ]
  },
  {
   "cell_type": "code",
   "execution_count": 125,
   "metadata": {},
   "outputs": [
    {
     "data": {
      "image/png": "[encoded data removed]",
      "text/plain": [
       "<IPython.core.display.Image object>"
      ]
     },
     "metadata": {},
     "output_type": "display_data"
    }
   ],
   "source": [
    "graph = builder.compile()\n",
    "from IPython.display import Image, display\n",
    "display(Image(graph.get_graph().draw_mermaid_png()))"
   ]
  },
  {
   "cell_type": "code",
   "execution_count": 126,
   "metadata": {},
   "outputs": [
    {
     "data": {
      "text/plain": [
       "{'amount_usd': 1000,\n",
       " 'total_usd': 1080.0,\n",
       " 'total_currency': 'INR',\n",
       " 'total': 91800.0}"
      ]
     },
     "execution_count": 126,
     "metadata": {},
     "output_type": "execute_result"
    }
   ],
   "source": [
    "graph.invoke({'amount_usd':1000, 'total_currency': 'INR'})"
   ]
  },
  {
   "cell_type": "code",
   "execution_count": 127,
   "metadata": {},
   "outputs": [
    {
     "data": {
      "text/plain": [
       "{'amount_usd': 1000,\n",
       " 'total_usd': 1080.0,\n",
       " 'total_currency': 'EUR',\n",
       " 'total': 1026.0}"
      ]
     },
     "execution_count": 127,
     "metadata": {},
     "output_type": "execute_result"
    }
   ],
   "source": [
    "graph.invoke({'amount_usd':1000, 'total_currency': 'EUR'})"
   ]
  },
  {
   "cell_type": "markdown",
   "metadata": {},
   "source": [
    "## Simple ChatBot"
   ]
  },
  {
   "cell_type": "code",
   "execution_count": 162,
   "metadata": {},
   "outputs": [
    {
     "data": {
      "text/plain": [
       "True"
      ]
     },
     "execution_count": 162,
     "metadata": {},
     "output_type": "execute_result"
    }
   ],
   "source": [
    "import os\n",
    "from dotenv import load_dotenv\n",
    "load_dotenv()"
   ]
  },
  {
   "cell_type": "code",
   "execution_count": 129,
   "metadata": {},
   "outputs": [],
   "source": [
    "from langchain.chat_models import ChatOpenAI\n",
    "\n",
    "llm = ChatOpenAI(\n",
    "    model=\"gpt-4o\",\n",
    "    temperature=0.0,\n",
    ")"
   ]
  },
  {
   "cell_type": "code",
   "execution_count": 130,
   "metadata": {},
   "outputs": [
    {
     "data": {
      "text/plain": [
       "AIMessage(content=\"The first person to walk on the moon was Neil Armstrong. He accomplished this historic feat on July 20, 1969, during NASA's Apollo 11 mission.\", additional_kwargs={}, response_metadata={'token_usage': {'completion_tokens': 34, 'prompt_tokens': 18, 'total_tokens': 52, 'completion_tokens_details': {'accepted_prediction_tokens': 0, 'audio_tokens': 0, 'reasoning_tokens': 0, 'rejected_prediction_tokens': 0}, 'prompt_tokens_details': {'audio_tokens': 0, 'cached_tokens': 0}}, 'model_name': 'gpt-4o', 'system_fingerprint': 'fp_07871e2ad8', 'finish_reason': 'stop', 'logprobs': None}, id='run--46e0dd15-1141-49c4-abd9-04a584c1bcc2-0')"
      ]
     },
     "execution_count": 130,
     "metadata": {},
     "output_type": "execute_result"
    }
   ],
   "source": [
    "llm.invoke(\"who was the first person to walk on the moon?\")"
   ]
  },
  {
   "cell_type": "code",
   "execution_count": 131,
   "metadata": {},
   "outputs": [],
   "source": [
    "from langchain.chat_models import init_chat_model"
   ]
  },
  {
   "cell_type": "code",
   "execution_count": 132,
   "metadata": {},
   "outputs": [],
   "source": [
    "llm = init_chat_model(\n",
    "    model=\"gpt-4o\",\n",
    "    temperature=0.0,\n",
    ")"
   ]
  },
  {
   "cell_type": "code",
   "execution_count": 133,
   "metadata": {},
   "outputs": [
    {
     "data": {
      "text/plain": [
       "AIMessage(content='The first person to walk on the moon was Neil Armstrong. He accomplished this historic feat on July 20, 1969, during NASA\\'s Apollo 11 mission. Armstrong\\'s famous words as he stepped onto the lunar surface were, \"That\\'s one small step for [a] man, one giant leap for mankind.\"', additional_kwargs={'refusal': None}, response_metadata={'token_usage': {'completion_tokens': 64, 'prompt_tokens': 19, 'total_tokens': 83, 'completion_tokens_details': {'accepted_prediction_tokens': 0, 'audio_tokens': 0, 'reasoning_tokens': 0, 'rejected_prediction_tokens': 0}, 'prompt_tokens_details': {'audio_tokens': 0, 'cached_tokens': 0}}, 'model_name': 'gpt-4o-2024-08-06', 'system_fingerprint': 'fp_07871e2ad8', 'id': 'chatcmpl-BqV29iEIprw7XCg1q4719mvHXKyHY', 'service_tier': 'default', 'finish_reason': 'stop', 'logprobs': None}, id='run--ac02b7f1-cebf-4acc-a1d2-e21a4152f85f-0', usage_metadata={'input_tokens': 19, 'output_tokens': 64, 'total_tokens': 83, 'input_token_details': {'audio': 0, 'cache_read': 0}, 'output_token_details': {'audio': 0, 'reasoning': 0}})"
      ]
     },
     "execution_count": 133,
     "metadata": {},
     "output_type": "execute_result"
    }
   ],
   "source": [
    "llm.invoke(\"who was the first person to woalk on the moon?\")"
   ]
  },
  {
   "cell_type": "code",
   "execution_count": 134,
   "metadata": {},
   "outputs": [],
   "source": [
    "from langgraph.graph.message import add_messages"
   ]
  },
  {
   "cell_type": "code",
   "execution_count": 135,
   "metadata": {},
   "outputs": [],
   "source": [
    "class State(TypedDict):\n",
    "    messages: Annotated[list, add_messages]\n",
    "\n",
    "def chatbot(state: State) -> State:\n",
    "    return {\"messages\":[llm.invoke(state['messages'])]}"
   ]
  },
  {
   "cell_type": "code",
   "execution_count": 136,
   "metadata": {},
   "outputs": [],
   "source": [
    "builder = StateGraph(State)\n",
    "\n",
    "builder.add_node(\"chatbot_node\", chatbot)\n",
    "builder.add_edge(START, \"chatbot_node\")\n",
    "builder.add_edge(\"chatbot_node\", END)\n",
    "\n",
    "graph = builder.compile()"
   ]
  },
  {
   "cell_type": "code",
   "execution_count": 137,
   "metadata": {},
   "outputs": [],
   "source": [
    "message = {\"role\": \"user\", \"content\": \"who was the first person to walk on the moon? Print only the name.\"}\n",
    "\n",
    "response = graph.invoke({'messages': [message]})"
   ]
  },
  {
   "cell_type": "code",
   "execution_count": 138,
   "metadata": {},
   "outputs": [
    {
     "data": {
      "text/plain": [
       "[HumanMessage(content='who was the first person to walk on the moon? Print only the name.', additional_kwargs={}, response_metadata={}, id='0dbfc999-b6fc-4451-83c5-e11be4d98359'),\n",
       " AIMessage(content='Neil Armstrong', additional_kwargs={'refusal': None}, response_metadata={'token_usage': {'completion_tokens': 2, 'prompt_tokens': 23, 'total_tokens': 25, 'completion_tokens_details': {'accepted_prediction_tokens': 0, 'audio_tokens': 0, 'reasoning_tokens': 0, 'rejected_prediction_tokens': 0}, 'prompt_tokens_details': {'audio_tokens': 0, 'cached_tokens': 0}}, 'model_name': 'gpt-4o-2024-08-06', 'system_fingerprint': 'fp_07871e2ad8', 'id': 'chatcmpl-BqV2ASguAVbOkVSt1onI2DhddTJA6', 'service_tier': 'default', 'finish_reason': 'stop', 'logprobs': None}, id='run--e25e60a7-ea68-4464-bf93-551e3c744ecb-0', usage_metadata={'input_tokens': 23, 'output_tokens': 2, 'total_tokens': 25, 'input_token_details': {'audio': 0, 'cache_read': 0}, 'output_token_details': {'audio': 0, 'reasoning': 0}})]"
      ]
     },
     "execution_count": 138,
     "metadata": {},
     "output_type": "execute_result"
    }
   ],
   "source": [
    "response['messages']"
   ]
  },
  {
   "cell_type": "code",
   "execution_count": 139,
   "metadata": {},
   "outputs": [
    {
     "name": "stdout",
     "output_type": "stream",
     "text": [
      "Bot: Hello! How can I assist you today?\n",
      "Bot: 1 + 1 equals 2.\n"
     ]
    }
   ],
   "source": [
    "state = None\n",
    "\n",
    "while True:\n",
    "    in_message = input(\"You: \")\n",
    "    if in_message.lower() in {\"exit\", \"quit\"}:\n",
    "        break\n",
    "    if state is None:\n",
    "        state={'messages': [{'role': 'user', 'content': in_message}]}\n",
    "    else:\n",
    "        state['messages'].append({'role': 'user', 'content': in_message})\n",
    "    \n",
    "    state = graph.invoke(state)\n",
    "\n",
    "    print(\"Bot:\", state['messages'][-1].content)"
   ]
  },
  {
   "cell_type": "markdown",
   "metadata": {},
   "source": [
    "## Tool calling"
   ]
  },
  {
   "cell_type": "markdown",
   "metadata": {},
   "source": [
    "Import more libraries"
   ]
  },
  {
   "cell_type": "code",
   "execution_count": 140,
   "metadata": {},
   "outputs": [],
   "source": [
    "from langchain_core.tools import tool\n",
    "from langgraph.prebuilt import ToolNode, tools_condition"
   ]
  },
  {
   "cell_type": "code",
   "execution_count": 141,
   "metadata": {},
   "outputs": [],
   "source": [
    "@tool\n",
    "def get_stock_price(symbol: str) -> float:\n",
    "    '''Returns the current price of a stock given the stock symbol.\n",
    "    :param symbol:stock symbol\n",
    "    :return: current price of the stock\n",
    "    '''\n",
    "    return {\n",
    "        \"MSFT\": 200.3,\n",
    "        \"AAPL\": 100.4,\n",
    "        \"AMZN\": 150.0,\n",
    "        \"RIL\": 87.6\n",
    "    }.get(symbol, 0.0)"
   ]
  },
  {
   "cell_type": "code",
   "execution_count": 142,
   "metadata": {},
   "outputs": [],
   "source": [
    "tools = [get_stock_price]"
   ]
  },
  {
   "cell_type": "code",
   "execution_count": 143,
   "metadata": {},
   "outputs": [],
   "source": [
    "llm = init_chat_model(\n",
    "    model=\"gpt-4o\",\n",
    "    temperature=0.0,\n",
    ")\n",
    "\n",
    "llm_with_tools = llm.bind_tools(tools)"
   ]
  },
  {
   "cell_type": "markdown",
   "metadata": {},
   "source": [
    "Create the nodes and edges "
   ]
  },
  {
   "cell_type": "code",
   "execution_count": 144,
   "metadata": {},
   "outputs": [
    {
     "data": {
      "image/png": "[encoded data removed]",
      "text/plain": [
       "<IPython.core.display.Image object>"
      ]
     },
     "metadata": {},
     "output_type": "display_data"
    }
   ],
   "source": [
    "def chatbot(state: State) -> State:\n",
    "    return {\"messages\":[llm_with_tools.invoke(state['messages'])]}\n",
    "\n",
    "builder = StateGraph(State)\n",
    "\n",
    "builder.add_node(\"chatbot_node\", chatbot)\n",
    "builder.add_node(\"tools\", ToolNode(tools))\n",
    "\n",
    "builder.add_edge(START, \"chatbot_node\")\n",
    "builder.add_conditional_edges(\"chatbot_node\", tools_condition)\n",
    "\n",
    "graph = builder.compile()\n",
    "\n",
    "from IPython.display import Image, display\n",
    "display(Image(graph.get_graph().draw_mermaid_png()))"
   ]
  },
  {
   "cell_type": "code",
   "execution_count": 145,
   "metadata": {},
   "outputs": [
    {
     "name": "stdout",
     "output_type": "stream",
     "text": [
      "150.0\n"
     ]
    }
   ],
   "source": [
    "state = graph.invoke({'messages': [{'role': 'user', 'content': \"What is the current price of AMZN right now?\"}]})\n",
    "print(state['messages'][-1].content)"
   ]
  },
  {
   "cell_type": "code",
   "execution_count": 146,
   "metadata": {},
   "outputs": [
    {
     "data": {
      "text/plain": [
       "{'messages': [HumanMessage(content='What is the current price of AMZN right now?', additional_kwargs={}, response_metadata={}, id='3fc25ddd-ace9-48dd-b47b-35fb84c01fe2'),\n",
       "  AIMessage(content='', additional_kwargs={'tool_calls': [{'id': 'call_5gVe4y0pzUYLuDdLF6VWb2Kl', 'function': {'arguments': '{\"symbol\":\"AMZN\"}', 'name': 'get_stock_price'}, 'type': 'function'}], 'refusal': None}, response_metadata={'token_usage': {'completion_tokens': 16, 'prompt_tokens': 78, 'total_tokens': 94, 'completion_tokens_details': {'accepted_prediction_tokens': 0, 'audio_tokens': 0, 'reasoning_tokens': 0, 'rejected_prediction_tokens': 0}, 'prompt_tokens_details': {'audio_tokens': 0, 'cached_tokens': 0}}, 'model_name': 'gpt-4o-2024-08-06', 'system_fingerprint': 'fp_07871e2ad8', 'id': 'chatcmpl-BqV2ZprPIbaUCbkaSLJllXU9CeGSx', 'service_tier': 'default', 'finish_reason': 'tool_calls', 'logprobs': None}, id='run--aa07e3d3-ceab-4531-ab3a-ea2ad95dd6d3-0', tool_calls=[{'name': 'get_stock_price', 'args': {'symbol': 'AMZN'}, 'id': 'call_5gVe4y0pzUYLuDdLF6VWb2Kl', 'type': 'tool_call'}], usage_metadata={'input_tokens': 78, 'output_tokens': 16, 'total_tokens': 94, 'input_token_details': {'audio': 0, 'cache_read': 0}, 'output_token_details': {'audio': 0, 'reasoning': 0}}),\n",
       "  ToolMessage(content='150.0', name='get_stock_price', id='0430fd18-2b43-4582-9c13-0ba300d1becb', tool_call_id='call_5gVe4y0pzUYLuDdLF6VWb2Kl')]}"
      ]
     },
     "execution_count": 146,
     "metadata": {},
     "output_type": "execute_result"
    }
   ],
   "source": [
    "state"
   ]
  },
  {
   "cell_type": "code",
   "execution_count": 147,
   "metadata": {},
   "outputs": [
    {
     "data": {
      "text/plain": [
       "'200.3'"
      ]
     },
     "execution_count": 147,
     "metadata": {},
     "output_type": "execute_result"
    }
   ],
   "source": [
    "msg = \"I want to buy 20 AMZN stocks at the current price and 10 MSFT stocks at the current price. What is the total cost?\"\n",
    "state = graph.invoke({'messages': [{'role': 'user', 'content': msg}]})\n",
    "state['messages'][-1].content"
   ]
  },
  {
   "cell_type": "code",
   "execution_count": 148,
   "metadata": {},
   "outputs": [
    {
     "data": {
      "text/plain": [
       "{'messages': [HumanMessage(content='I want to buy 20 AMZN stocks at the current price and 10 MSFT stocks at the current price. What is the total cost?', additional_kwargs={}, response_metadata={}, id='7f18fc67-9c5b-4611-a084-cc362de7a34a'),\n",
       "  AIMessage(content='', additional_kwargs={'tool_calls': [{'id': 'call_T9F97SbjdHOUXFLNii6jUeM0', 'function': {'arguments': '{\"symbol\": \"AMZN\"}', 'name': 'get_stock_price'}, 'type': 'function'}, {'id': 'call_HjgvJMskGwtf0sTfumjX9UyG', 'function': {'arguments': '{\"symbol\": \"MSFT\"}', 'name': 'get_stock_price'}, 'type': 'function'}], 'refusal': None}, response_metadata={'token_usage': {'completion_tokens': 48, 'prompt_tokens': 97, 'total_tokens': 145, 'completion_tokens_details': {'accepted_prediction_tokens': 0, 'audio_tokens': 0, 'reasoning_tokens': 0, 'rejected_prediction_tokens': 0}, 'prompt_tokens_details': {'audio_tokens': 0, 'cached_tokens': 0}}, 'model_name': 'gpt-4o-2024-08-06', 'system_fingerprint': 'fp_07871e2ad8', 'id': 'chatcmpl-BqV2aaYZooiqrrOQZkC4JYKmDbJPD', 'service_tier': 'default', 'finish_reason': 'tool_calls', 'logprobs': None}, id='run--fa40cb0e-858b-4ace-88cb-2536b671b566-0', tool_calls=[{'name': 'get_stock_price', 'args': {'symbol': 'AMZN'}, 'id': 'call_T9F97SbjdHOUXFLNii6jUeM0', 'type': 'tool_call'}, {'name': 'get_stock_price', 'args': {'symbol': 'MSFT'}, 'id': 'call_HjgvJMskGwtf0sTfumjX9UyG', 'type': 'tool_call'}], usage_metadata={'input_tokens': 97, 'output_tokens': 48, 'total_tokens': 145, 'input_token_details': {'audio': 0, 'cache_read': 0}, 'output_token_details': {'audio': 0, 'reasoning': 0}}),\n",
       "  ToolMessage(content='150.0', name='get_stock_price', id='382495f0-f875-4785-b8e6-e741a8e9eb43', tool_call_id='call_T9F97SbjdHOUXFLNii6jUeM0'),\n",
       "  ToolMessage(content='200.3', name='get_stock_price', id='05acc947-e832-42b4-a867-2fd29d1045ff', tool_call_id='call_HjgvJMskGwtf0sTfumjX9UyG')]}"
      ]
     },
     "execution_count": 148,
     "metadata": {},
     "output_type": "execute_result"
    }
   ],
   "source": [
    "state"
   ]
  },
  {
   "cell_type": "markdown",
   "metadata": {},
   "source": [
    "## Agentic Tool Call"
   ]
  },
  {
   "cell_type": "code",
   "execution_count": 149,
   "metadata": {},
   "outputs": [
    {
     "data": {
      "image/png": "[encoded data removed]",
      "text/plain": [
       "<IPython.core.display.Image object>"
      ]
     },
     "metadata": {},
     "output_type": "display_data"
    }
   ],
   "source": [
    "def chatbot(state: State) -> State:\n",
    "    return {\"messages\":[llm_with_tools.invoke(state['messages'])]}\n",
    "\n",
    "builder = StateGraph(State)\n",
    "\n",
    "builder.add_node(\"chatbot_node\", chatbot)\n",
    "builder.add_node(\"tools\", ToolNode(tools))\n",
    "\n",
    "builder.add_edge(START, \"chatbot_node\")\n",
    "builder.add_conditional_edges(\"chatbot_node\", tools_condition)\n",
    "builder.add_edge(\"tools\", \"chatbot_node\")\n",
    "\n",
    "graph = builder.compile()\n",
    "\n",
    "from IPython.display import Image, display\n",
    "display(Image(graph.get_graph().draw_mermaid_png()))"
   ]
  },
  {
   "cell_type": "code",
   "execution_count": 150,
   "metadata": {},
   "outputs": [
    {
     "name": "stdout",
     "output_type": "stream",
     "text": [
      "The current price for AMZN stock is $150.00, and for MSFT stock, it is $200.30. \n",
      "\n",
      "To calculate the total cost:\n",
      "- 20 AMZN stocks at $150.00 each: \\(20 \\times 150.00 = 3000.00\\)\n",
      "- 10 MSFT stocks at $200.30 each: \\(10 \\times 200.30 = 2003.00\\)\n",
      "\n",
      "The total cost for purchasing the stocks is \\(3000.00 + 2003.00 = 5003.00\\).\n",
      "\n",
      "So, the total cost is $5003.00.\n"
     ]
    }
   ],
   "source": [
    "msg = \"I want to buy 20 AMZN stocks at the current price and 10 MSFT stocks at the current price. What is the total cost?\"\n",
    "state = graph.invoke({'messages': [{'role': 'user', 'content': msg}]})\n",
    "print(state['messages'][-1].content)"
   ]
  },
  {
   "cell_type": "code",
   "execution_count": 151,
   "metadata": {},
   "outputs": [
    {
     "data": {
      "text/plain": [
       "{'messages': [HumanMessage(content='I want to buy 20 AMZN stocks at the current price and 10 MSFT stocks at the current price. What is the total cost?', additional_kwargs={}, response_metadata={}, id='390e6ab1-9b5f-42fc-b01f-e57ecfc04a5e'),\n",
       "  AIMessage(content='', additional_kwargs={'tool_calls': [{'id': 'call_Hq4NzcUMLjwsM9hlRNkk3Z5H', 'function': {'arguments': '{\"symbol\": \"AMZN\"}', 'name': 'get_stock_price'}, 'type': 'function'}, {'id': 'call_Q7wTowJm4BzU4cVm8ZA5BE0V', 'function': {'arguments': '{\"symbol\": \"MSFT\"}', 'name': 'get_stock_price'}, 'type': 'function'}], 'refusal': None}, response_metadata={'token_usage': {'completion_tokens': 48, 'prompt_tokens': 97, 'total_tokens': 145, 'completion_tokens_details': {'accepted_prediction_tokens': 0, 'audio_tokens': 0, 'reasoning_tokens': 0, 'rejected_prediction_tokens': 0}, 'prompt_tokens_details': {'audio_tokens': 0, 'cached_tokens': 0}}, 'model_name': 'gpt-4o-2024-08-06', 'system_fingerprint': 'fp_07871e2ad8', 'id': 'chatcmpl-BqV2eaD8pWqOszK9n56YdLn1SGbIk', 'service_tier': 'default', 'finish_reason': 'tool_calls', 'logprobs': None}, id='run--6b1ffb30-eac5-4d3c-a96d-9b5ad83e9683-0', tool_calls=[{'name': 'get_stock_price', 'args': {'symbol': 'AMZN'}, 'id': 'call_Hq4NzcUMLjwsM9hlRNkk3Z5H', 'type': 'tool_call'}, {'name': 'get_stock_price', 'args': {'symbol': 'MSFT'}, 'id': 'call_Q7wTowJm4BzU4cVm8ZA5BE0V', 'type': 'tool_call'}], usage_metadata={'input_tokens': 97, 'output_tokens': 48, 'total_tokens': 145, 'input_token_details': {'audio': 0, 'cache_read': 0}, 'output_token_details': {'audio': 0, 'reasoning': 0}}),\n",
       "  ToolMessage(content='150.0', name='get_stock_price', id='209b56a3-4093-4a59-a772-5ea1451e39f6', tool_call_id='call_Hq4NzcUMLjwsM9hlRNkk3Z5H'),\n",
       "  ToolMessage(content='200.3', name='get_stock_price', id='a3fcf13d-d186-4c95-aeb7-115cfab84d47', tool_call_id='call_Q7wTowJm4BzU4cVm8ZA5BE0V'),\n",
       "  AIMessage(content='The current price for AMZN stock is $150.00, and for MSFT stock, it is $200.30. \\n\\nTo calculate the total cost:\\n- 20 AMZN stocks at $150.00 each: \\\\(20 \\\\times 150.00 = 3000.00\\\\)\\n- 10 MSFT stocks at $200.30 each: \\\\(10 \\\\times 200.30 = 2003.00\\\\)\\n\\nThe total cost for purchasing the stocks is \\\\(3000.00 + 2003.00 = 5003.00\\\\).\\n\\nSo, the total cost is $5003.00.', additional_kwargs={'refusal': None}, response_metadata={'token_usage': {'completion_tokens': 131, 'prompt_tokens': 165, 'total_tokens': 296, 'completion_tokens_details': {'accepted_prediction_tokens': 0, 'audio_tokens': 0, 'reasoning_tokens': 0, 'rejected_prediction_tokens': 0}, 'prompt_tokens_details': {'audio_tokens': 0, 'cached_tokens': 0}}, 'model_name': 'gpt-4o-2024-08-06', 'system_fingerprint': 'fp_07871e2ad8', 'id': 'chatcmpl-BqV2fZwPZNUTfofWikeViA6o7FAVd', 'service_tier': 'default', 'finish_reason': 'stop', 'logprobs': None}, id='run--c006a9ee-364d-4416-bb0d-0dba61e11467-0', usage_metadata={'input_tokens': 165, 'output_tokens': 131, 'total_tokens': 296, 'input_token_details': {'audio': 0, 'cache_read': 0}, 'output_token_details': {'audio': 0, 'reasoning': 0}})]}"
      ]
     },
     "execution_count": 151,
     "metadata": {},
     "output_type": "execute_result"
    }
   ],
   "source": [
    "state"
   ]
  },
  {
   "cell_type": "markdown",
   "metadata": {},
   "source": [
    "## Agent with memory"
   ]
  },
  {
   "cell_type": "code",
   "execution_count": 152,
   "metadata": {},
   "outputs": [],
   "source": [
    "from langgraph.checkpoint.memory import MemorySaver\n",
    "memory = MemorySaver()"
   ]
  },
  {
   "cell_type": "code",
   "execution_count": 153,
   "metadata": {},
   "outputs": [
    {
     "data": {
      "image/png": "[encoded data removed]",
      "text/plain": [
       "<IPython.core.display.Image object>"
      ]
     },
     "metadata": {},
     "output_type": "display_data"
    }
   ],
   "source": [
    "def chatbot(state: State) -> State:\n",
    "    return {\"messages\":[llm_with_tools.invoke(state['messages'])]}\n",
    "\n",
    "builder = StateGraph(State)\n",
    "\n",
    "builder.add_node(\"chatbot_node\", chatbot)\n",
    "builder.add_node(\"tools\", ToolNode(tools))\n",
    "\n",
    "builder.add_edge(START, \"chatbot_node\")\n",
    "builder.add_conditional_edges(\"chatbot_node\", tools_condition)\n",
    "builder.add_edge(\"tools\", \"chatbot_node\")\n",
    "\n",
    "graph = builder.compile(checkpointer=memory)\n",
    "\n",
    "from IPython.display import Image, display\n",
    "display(Image(graph.get_graph().draw_mermaid_png()))"
   ]
  },
  {
   "cell_type": "code",
   "execution_count": 154,
   "metadata": {},
   "outputs": [
    {
     "name": "stdout",
     "output_type": "stream",
     "text": [
      "The current price for AMZN stock is $150.00, and for MSFT stock, it is $200.30. \n",
      "\n",
      "To calculate the total cost:\n",
      "- 20 AMZN stocks at $150.00 each: \\(20 \\times 150.00 = 3000.00\\)\n",
      "- 10 MSFT stocks at $200.30 each: \\(10 \\times 200.30 = 2003.00\\)\n",
      "\n",
      "The total cost for purchasing the stocks is \\(3000.00 + 2003.00 = 5003.00\\).\n",
      "\n",
      "So, the total cost is $5003.00.\n"
     ]
    }
   ],
   "source": [
    "config = {\"configurable\": {\"thread_id\": \"1\"}}\n",
    "\n",
    "msg = \"I want to buy 20 AMZN stocks at the current price and 10 MSFT stocks at the current price. What is the total cost?\"\n",
    "state = graph.invoke({'messages': [{'role': 'user', 'content': msg}]}, config=config)\n",
    "print(state['messages'][-1].content)"
   ]
  },
  {
   "cell_type": "markdown",
   "metadata": {},
   "source": [
    "Working with two memories/thread"
   ]
  },
  {
   "cell_type": "code",
   "execution_count": 155,
   "metadata": {},
   "outputs": [
    {
     "name": "stdout",
     "output_type": "stream",
     "text": [
      "The current price for RIL stock is $87.60.\n",
      "\n",
      "To calculate the total cost for 10 RIL stocks:\n",
      "- 10 RIL stocks at $87.60 each: \\(10 \\times 87.60 = 876.00\\)\n",
      "\n",
      "Adding this to the previous total cost of $5003.00:\n",
      "- Total cost: \\(5003.00 + 876.00 = 5879.00\\)\n",
      "\n",
      "The new total cost is $5879.00.\n"
     ]
    }
   ],
   "source": [
    "msg = \"Using the current price tell me the total price of 10 RIL and add it to previous total cost\"\n",
    "\n",
    "state = graph.invoke({'messages': [{'role': 'user', 'content': msg}]}, config=config)\n",
    "print(state['messages'][-1].content)"
   ]
  },
  {
   "cell_type": "code",
   "execution_count": 156,
   "metadata": {},
   "outputs": [
    {
     "name": "stdout",
     "output_type": "stream",
     "text": [
      "The current price of one AAPL stock is $100.4. Therefore, the total price of 5 AAPL stocks would be:\n",
      "\n",
      "\\[ 5 \\times 100.4 = 502 \\]\n",
      "\n",
      "So, the total price is $502.\n"
     ]
    }
   ],
   "source": [
    "config2 = {\"configurable\": {\"thread_id\": \"2\"}}\n",
    "\n",
    "msg = \"Tell me the total price of 5 AAPL stocks?\"\n",
    "state = graph.invoke({'messages': [{'role': 'user', 'content': msg}]}, config=config2)\n",
    "print(state['messages'][-1].content)"
   ]
  },
  {
   "cell_type": "code",
   "execution_count": 157,
   "metadata": {},
   "outputs": [
    {
     "name": "stdout",
     "output_type": "stream",
     "text": [
      "The current price of one MSFT stock is $200.3. Therefore, the total price of 5 MSFT stocks would be:\n",
      "\n",
      "\\[ 5 \\times 200.3 = 1001.5 \\]\n",
      "\n",
      "Adding this to the previous total cost of 5 AAPL stocks ($502), the combined total is:\n",
      "\n",
      "\\[ 502 + 1001.5 = 1503.5 \\]\n",
      "\n",
      "So, the combined total price is $1503.5.\n"
     ]
    }
   ],
   "source": [
    "msg = \"Using the current total price of 5 MSFT stocks, and add it to the previous total cost\"\n",
    "state = graph.invoke({'messages': [{'role': 'user', 'content': msg}]}, config=config2)\n",
    "print(state['messages'][-1].content)"
   ]
  },
  {
   "cell_type": "code",
   "execution_count": 158,
   "metadata": {},
   "outputs": [
    {
     "name": "stdout",
     "output_type": "stream",
     "text": [
      "The current price for MSFT stock is $200.30.\n",
      "\n",
      "To calculate the total cost for 5 MSFT stocks:\n",
      "- 5 MSFT stocks at $200.30 each: \\(5 \\times 200.30 = 1001.50\\)\n",
      "\n",
      "Adding this to the previous total cost of $5879.00:\n",
      "- Total cost: \\(5879.00 + 1001.50 = 6880.50\\)\n",
      "\n",
      "The new total cost is $6880.50.\n"
     ]
    }
   ],
   "source": [
    "msg = \"Using the current total price of 5 MSFT stocks, and add it to the previous total cost\"\n",
    "state = graph.invoke({'messages': [{'role': 'user', 'content': msg}]}, config=config)\n",
    "print(state['messages'][-1].content)"
   ]
  },
  {
   "cell_type": "markdown",
   "metadata": {},
   "source": [
    "## Langsmith"
   ]
  },
  {
   "cell_type": "code",
   "execution_count": 163,
   "metadata": {},
   "outputs": [],
   "source": [
    "from langsmith import traceable\n",
    "\n",
    "@traceable\n",
    "def call_graph(query: str):\n",
    "    state = graph.invoke({'messages': [{'role': 'user', 'content': query}]}, config=config)\n",
    "    return state['messages'][-1].content"
   ]
  },
  {
   "cell_type": "code",
   "execution_count": 164,
   "metadata": {},
   "outputs": [
    {
     "data": {
      "text/plain": [
       "'The total price for 10 RIL stocks and 5 MSFT stocks is $1877.50.'"
      ]
     },
     "execution_count": 164,
     "metadata": {},
     "output_type": "execute_result"
    }
   ],
   "source": [
    "call_graph(\"what is the total price of 10 RIL stocks and 5 MSFT stocks?\")"
   ]
  },
  {
   "cell_type": "markdown",
   "metadata": {},
   "source": [
    "## Human in the loop "
   ]
  },
  {
   "cell_type": "code",
   "execution_count": 165,
   "metadata": {},
   "outputs": [],
   "source": [
    "@tool\n",
    "def get_stock_price(symbol: str) -> float:\n",
    "    '''Returns the current price of a stock given the stock symbol.\n",
    "    :param symbol:stock symbol\n",
    "    :return: current price of the stock\n",
    "    '''\n",
    "    return {\n",
    "        \"MSFT\": 200.3,\n",
    "        \"AAPL\": 100.4,\n",
    "        \"AMZN\": 150.0,\n",
    "        \"RIL\": 87.6\n",
    "    }.get(symbol, 0.0)\n",
    "\n",
    "@tool\n",
    "def buy_stock(symbol: str, quantity: int, total_price: float) -> float:\n",
    "    '''Buy stocks given the stock symbol and quantity.'''\n",
    "    return f'You bought {quantity} shares of {symbol} at a total price of {total_price}.'\n",
    "\n",
    "tools = [get_stock_price, buy_stock]"
   ]
  },
  {
   "cell_type": "code",
   "execution_count": 166,
   "metadata": {},
   "outputs": [],
   "source": [
    "llm_with_tools = llm.bind_tools(tools)"
   ]
  },
  {
   "cell_type": "code",
   "execution_count": 171,
   "metadata": {},
   "outputs": [
    {
     "data": {
      "image/png": "[encoded data removed]",
      "text/plain": [
       "<IPython.core.display.Image object>"
      ]
     },
     "metadata": {},
     "output_type": "display_data"
    }
   ],
   "source": [
    "def chatbot_node(state: State) -> State:\n",
    "    msg = llm_with_tools.invoke(state['messages'])\n",
    "    return {\"messages\": [msg]}\n",
    "\n",
    "memory = MemorySaver()\n",
    "builder = StateGraph(State)\n",
    "\n",
    "builder.add_node(\"chatbot_node\", chatbot_node)\n",
    "builder.add_node(\"tools\", ToolNode(tools))\n",
    "\n",
    "builder.add_edge(START, end_key=\"chatbot_node\")\n",
    "builder.add_conditional_edges(\"chatbot_node\", tools_condition)\n",
    "builder.add_edge(start_key=\"tools\", end_key=\"chatbot_node\")\n",
    "builder.add_edge(start_key=\"chatbot_node\", end_key=END)\n",
    "\n",
    "graph = builder.compile(checkpointer=memory)\n",
    "\n",
    "config = {\"configurable\": {\"thread_id\": \"buy_thread\"}}\n",
    "\n",
    "from IPython.display import Image, display\n",
    "display(Image(graph.get_graph().draw_mermaid_png()))"
   ]
  },
  {
   "cell_type": "code",
   "execution_count": 172,
   "metadata": {},
   "outputs": [
    {
     "name": "stdout",
     "output_type": "stream",
     "text": [
      "The current price of one MSFT stock is $200.3. Therefore, the price for 10 MSFT stocks would be $2003.\n"
     ]
    }
   ],
   "source": [
    "query = \"What is the current price of 10 MSFT stocks?\"\n",
    "state = graph.invoke(input={'messages': [{'role': 'user', 'content': query}]}, config=config)\n",
    "print(state['messages'][-1].content)"
   ]
  },
  {
   "cell_type": "code",
   "execution_count": 173,
   "metadata": {},
   "outputs": [
    {
     "name": "stdout",
     "output_type": "stream",
     "text": [
      "You have successfully bought 10 shares of MSFT at a total price of $2003.\n"
     ]
    }
   ],
   "source": [
    "query = \"Buy 10 MSFT stocks at current price?\"\n",
    "state = graph.invoke(input={'messages': [{'role': 'user', 'content': query}]}, config=config)\n",
    "print(state['messages'][-1].content)"
   ]
  },
  {
   "cell_type": "markdown",
   "metadata": {},
   "source": [
    "Part 2"
   ]
  },
  {
   "cell_type": "code",
   "execution_count": 174,
   "metadata": {},
   "outputs": [],
   "source": [
    "from langgraph.types import interrupt, Command"
   ]
  },
  {
   "cell_type": "code",
   "execution_count": 175,
   "metadata": {},
   "outputs": [],
   "source": [
    "@tool\n",
    "def get_stock_price(symbol: str) -> float:\n",
    "    '''Returns the current price of a stock given the stock symbol.\n",
    "    :param symbol:stock symbol\n",
    "    :return: current price of the stock\n",
    "    '''\n",
    "    return {\n",
    "        \"MSFT\": 200.3,\n",
    "        \"AAPL\": 100.4,\n",
    "        \"AMZN\": 150.0,\n",
    "        \"RIL\": 87.6\n",
    "    }.get(symbol, 0.0)\n",
    "\n",
    "@tool\n",
    "def buy_stock(symbol: str, quantity: int, total_price: float) -> float:\n",
    "    '''Buy stocks given the stock symbol and quantity.'''\n",
    "    decision = interrupt(f\"Approve buying {quantity} {symbol} stocks for {total_price:.2f}?\")\n",
    "    if decision=='yes':\n",
    "        return f'You bought {quantity} shares of {symbol} at a total price of {total_price}.'\n",
    "    else:\n",
    "        return \"Buying declined.\"\n",
    "\n",
    "tools = [get_stock_price, buy_stock]"
   ]
  },
  {
   "cell_type": "code",
   "execution_count": 176,
   "metadata": {},
   "outputs": [],
   "source": [
    "llm_with_tools = llm.bind_tools(tools)"
   ]
  },
  {
   "cell_type": "code",
   "execution_count": 177,
   "metadata": {},
   "outputs": [],
   "source": [
    "def chatbot_node(state: State) -> State:\n",
    "    msg = llm_with_tools.invoke(state['messages'])\n",
    "    return {\"messages\": [msg]}\n",
    "\n",
    "memory = MemorySaver()\n",
    "builder = StateGraph(State)\n",
    "\n",
    "builder.add_node(\"chatbot_node\", chatbot_node)\n",
    "builder.add_node(\"tools\", ToolNode(tools))\n",
    "\n",
    "builder.add_edge(START, end_key=\"chatbot_node\")\n",
    "builder.add_conditional_edges(\"chatbot_node\", tools_condition)\n",
    "builder.add_edge(start_key=\"tools\", end_key=\"chatbot_node\")\n",
    "builder.add_edge(start_key=\"chatbot_node\", end_key=END)\n",
    "\n",
    "graph = builder.compile(checkpointer=memory)\n",
    "\n",
    "config = {\"configurable\": {\"thread_id\": \"buy_thread\"}}"
   ]
  },
  {
   "cell_type": "code",
   "execution_count": 180,
   "metadata": {},
   "outputs": [
    {
     "name": "stdout",
     "output_type": "stream",
     "text": [
      "You successfully bought another 10 shares of MSFT at a total price of $2003.00.\n"
     ]
    }
   ],
   "source": [
    "query = \"Buy 10 MSFT stocks at current price?\"\n",
    "state = graph.invoke(input={'messages': [{'role': 'user', 'content': query}]}, config=config)\n",
    "\n",
    "decision = input(\"Approve (yes/no): \")\n",
    "state = graph.invoke(Command(resume=decision), config=config)\n",
    "\n",
    "print(state['messages'][-1].content)"
   ]
  },
  {
   "cell_type": "code",
   "execution_count": null,
   "metadata": {},
   "outputs": [],
   "source": []
  },
  {
   "cell_type": "code",
   "execution_count": null,
   "metadata": {},
   "outputs": [],
   "source": []
  },
  {
   "cell_type": "code",
   "execution_count": null,
   "metadata": {},
   "outputs": [],
   "source": []
  },
  {
   "cell_type": "code",
   "execution_count": null,
   "metadata": {},
   "outputs": [],
   "source": []
  },
  {
   "cell_type": "code",
   "execution_count": null,
   "metadata": {},
   "outputs": [],
   "source": []
  },
  {
   "cell_type": "markdown",
   "metadata": {},
   "source": [
    "### Issue Tree"
   ]
  },
  {
   "cell_type": "code",
   "execution_count": 5,
   "metadata": {},
   "outputs": [],
   "source": [
    "import json\n",
    "\n",
    "class TreeNode:\n",
    "    def __init__(self, node_id, label, is_terminal=False):\n",
    "        self.node_id = node_id\n",
    "        self.label = label\n",
    "        self.is_terminal = is_terminal\n",
    "        self.children = []\n",
    "        self.evidence = []  # Facts/Quotes/Stats\n",
    "        self.synthesized_insight = \"\"\n",
    "\n",
    "    def to_dict(self):\n",
    "        return {\n",
    "            \"node_id\": self.node_id,\n",
    "            \"label\": self.label,\n",
    "            \"is_terminal\": self.is_terminal,\n",
    "            \"synthesized_insight\": self.synthesized_insight,\n",
    "            \"evidence\": self.evidence,\n",
    "            \"children\": [child.to_dict() for child in self.children]\n",
    "        }"
   ]
  },
  {
   "cell_type": "code",
   "execution_count": 6,
   "metadata": {},
   "outputs": [],
   "source": [
    "root = TreeNode(\"1\", \"Winning Aspiration\")\n",
    "financial_goals = TreeNode(\"1.1\", \"Financial Goals\")\n",
    "revenue_growth = TreeNode(\"1.1.1\", \"Revenue Growth\", is_terminal=True)\n",
    "profitability = TreeNode(\"1.1.2\", \"Profitability\")\n",
    "revenue = TreeNode(\"1.1.2.1\", \"Revenue\", is_terminal=True)\n",
    "costs = TreeNode(\"1.1.2.2\", \"Costs\", is_terminal=True)\n",
    "\n",
    "# Build the tree hierarchy\n",
    "profitability.children.extend([revenue, costs])\n",
    "financial_goals.children.extend([revenue_growth, profitability])\n",
    "root.children.append(financial_goals)"
   ]
  },
  {
   "cell_type": "code",
   "execution_count": 7,
   "metadata": {},
   "outputs": [
    {
     "name": "stdout",
     "output_type": "stream",
     "text": [
      "{\n",
      "  \"node_id\": \"1\",\n",
      "  \"label\": \"Winning Aspiration\",\n",
      "  \"is_terminal\": false,\n",
      "  \"synthesized_insight\": \"\",\n",
      "  \"evidence\": [],\n",
      "  \"children\": [\n",
      "    {\n",
      "      \"node_id\": \"1.1\",\n",
      "      \"label\": \"Financial Goals\",\n",
      "      \"is_terminal\": false,\n",
      "      \"synthesized_insight\": \"\",\n",
      "      \"evidence\": [],\n",
      "      \"children\": [\n",
      "        {\n",
      "          \"node_id\": \"1.1.1\",\n",
      "          \"label\": \"Revenue Growth\",\n",
      "          \"is_terminal\": true,\n",
      "          \"synthesized_insight\": \"\",\n",
      "          \"evidence\": [],\n",
      "          \"children\": []\n",
      "        },\n",
      "        {\n",
      "          \"node_id\": \"1.1.2\",\n",
      "          \"label\": \"Profitability\",\n",
      "          \"is_terminal\": false,\n",
      "          \"synthesized_insight\": \"\",\n",
      "          \"evidence\": [],\n",
      "          \"children\": [\n",
      "            {\n",
      "              \"node_id\": \"1.1.2.1\",\n",
      "              \"label\": \"Revenue\",\n",
      "              \"is_terminal\": true,\n",
      "              \"synthesized_insight\": \"\",\n",
      "              \"evidence\": [],\n",
      "              \"children\": []\n",
      "            },\n",
      "            {\n",
      "              \"node_id\": \"1.1.2.2\",\n",
      "              \"label\": \"Costs\",\n",
      "              \"is_terminal\": true,\n",
      "              \"synthesized_insight\": \"\",\n",
      "              \"evidence\": [],\n",
      "              \"children\": []\n",
      "            }\n",
      "          ]\n",
      "        }\n",
      "      ]\n",
      "    }\n",
      "  ]\n",
      "}\n"
     ]
    }
   ],
   "source": [
    "tree_json = json.dumps(root.to_dict(), indent=2)\n",
    "print(tree_json)\n"
   ]
  },
  {
   "cell_type": "code",
   "execution_count": null,
   "metadata": {},
   "outputs": [],
   "source": []
  },
  {
   "cell_type": "code",
   "execution_count": null,
   "metadata": {},
   "outputs": [],
   "source": []
  },
  {
   "cell_type": "code",
   "execution_count": null,
   "metadata": {},
   "outputs": [],
   "source": []
  }
 ],
 "metadata": {
  "kernelspec": {
   "display_name": "langgraph-learning",
   "language": "python",
   "name": "python3"
  },
  "language_info": {
   "codemirror_mode": {
    "name": "ipython",
    "version": 3
   },
   "file_extension": ".py",
   "mimetype": "text/x-python",
   "name": "python",
   "nbconvert_exporter": "python",
   "pygments_lexer": "ipython3",
   "version": "3.10.16"
  }
 },
 "nbformat": 4,
 "nbformat_minor": 2
}
